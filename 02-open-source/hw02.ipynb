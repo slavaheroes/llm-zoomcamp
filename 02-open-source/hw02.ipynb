{
 "cells": [
  {
   "cell_type": "markdown",
   "id": "f0eccb1e-febe-4204-b028-d94dabefaffa",
   "metadata": {},
   "source": [
    "## Q1.\n",
    "After running the docker container: `docker exec -it ollama bash`, then type `ollama -v`. \n",
    "\n",
    "Output is: `ollama version is 0.1.48` "
   ]
  },
  {
   "cell_type": "markdown",
   "id": "139029d8-52fe-41af-80d6-28f5da877a2f",
   "metadata": {},
   "source": [
    "## Q2.\n",
    "\n",
    "Inside of a container, run `cat /root/.ollama/models/manifests/registry.ollama.ai/library/gemma/2b` \n",
    "\n",
    "Output is: \n",
    "\n",
    "```\n",
    "{\"schemaVersion\":2,\"mediaType\":\"application/vnd.docker.distribution.manifest.v2+json\",\"config\":{\"mediaType\":\"application/vnd.docker.container.image.v1+json\",\"digest\":\"sha256:887433b89a901c156f7e6944442f3c9e57f3c55d6ed52042cbb7303aea994290\",\"size\":483},\"layers\":[{\"mediaType\":\"application/vnd.ollama.image.model\",\"digest\":\"sha256:c1864a5eb19305c40519da12cc543519e48a0697ecd30e15d5ac228644957d12\",\"size\":1678447520},{\"mediaType\":\"application/vnd.ollama.image.license\",\"digest\":\"sha256:097a36493f718248845233af1d3fefe7a303f864fae13bc31a3a9704229378ca\",\"size\":8433},{\"mediaType\":\"application/vnd.ollama.image.template\",\"digest\":\"sha256:109037bec39c0becc8221222ae23557559bc594290945a2c4221ab4f303b8871\",\"size\":136},{\"mediaType\":\"application/vnd.ollama.image.params\",\"digest\":\"sha256:22a838ceb7fb22755a3b0ae9b4eadde629d19be1f651f73efb8c6b4e2cd0eea0\",\"size\":84}]}\n",
    "```"
   ]
  },
  {
   "cell_type": "markdown",
   "id": "b9e83f65-5cb5-48d6-b616-67d952cf20e4",
   "metadata": {},
   "source": [
    "## Q3. \n",
    "\n",
    "Inside of a container `ollama run gemma2`, then type: \"10 * 10\" \n",
    "\n",
    "Output is: `10 * 10 = 100`"
   ]
  },
  {
   "cell_type": "markdown",
   "id": "787e108c-3b6b-4e4a-aad2-eec21d681d9b",
   "metadata": {},
   "source": [
    "## Q4. "
   ]
  },
  {
   "cell_type": "code",
   "execution_count": 8,
   "id": "0505b48f-44e0-43b9-b204-1ef1911fcbde",
   "metadata": {},
   "outputs": [
    {
     "name": "stdout",
     "output_type": "stream",
     "text": [
      "8.0K\tq5/ollama_files/models/manifests/registry.ollama.ai/library/gemma\n",
      "12K\tq5/ollama_files/models/manifests/registry.ollama.ai/library\n",
      "16K\tq5/ollama_files/models/manifests/registry.ollama.ai\n",
      "20K\tq5/ollama_files/models/manifests\n",
      "1.6G\tq5/ollama_files/models/blobs\n",
      "1.6G\tq5/ollama_files/models\n",
      "1.6G\tq5/ollama_files/\n"
     ]
    }
   ],
   "source": [
    "! du -h q5/ollama_files/"
   ]
  },
  {
   "cell_type": "markdown",
   "id": "94824464-a9ba-4cb7-aa01-ff377ed690fc",
   "metadata": {},
   "source": [
    "## Q5."
   ]
  },
  {
   "cell_type": "code",
   "execution_count": 10,
   "id": "51ec7167-6f2d-458f-a0c9-5504ac3228b5",
   "metadata": {},
   "outputs": [
    {
     "name": "stdout",
     "output_type": "stream",
     "text": [
      "FROM ollama/ollama\n",
      "\n",
      "COPY ./ollama_files/ /root/.ollama/"
     ]
    }
   ],
   "source": [
    "! cat q5/Dockerfile"
   ]
  },
  {
   "cell_type": "markdown",
   "id": "3f762c10-336b-40fc-b1ac-c90908a60b9c",
   "metadata": {},
   "source": [
    "## Q6."
   ]
  },
  {
   "cell_type": "code",
   "execution_count": 21,
   "id": "8c2b24c9-eaef-44ec-b753-096ba33d4bb7",
   "metadata": {},
   "outputs": [],
   "source": [
    "from openai import OpenAI\n",
    "\n",
    "client = OpenAI(\n",
    "    base_url='http://localhost:11434/v1/',\n",
    "    api_key='ollama',\n",
    ")"
   ]
  },
  {
   "cell_type": "code",
   "execution_count": 26,
   "id": "55044ad9-7bf4-4045-b50e-aff86a572e03",
   "metadata": {},
   "outputs": [],
   "source": [
    "def llm(prompt):\n",
    "    response = client.chat.completions.create(\n",
    "        model='gemma:2b',\n",
    "        messages=[{\"role\": \"user\", \"content\": prompt}],\n",
    "        temperature=0.0\n",
    "    )\n",
    "    \n",
    "    return response"
   ]
  },
  {
   "cell_type": "code",
   "execution_count": 27,
   "id": "7218f3c9-a6dd-40d3-ae8b-8bd3e391d5da",
   "metadata": {},
   "outputs": [],
   "source": [
    "prompt = \"What's the formula for energy?\"\n",
    "\n",
    "response = llm(prompt)"
   ]
  },
  {
   "cell_type": "code",
   "execution_count": 32,
   "id": "2dd6b9d2-7898-44cd-925e-22e13dbcccba",
   "metadata": {},
   "outputs": [
    {
     "data": {
      "text/plain": [
       "CompletionUsage(completion_tokens=304, prompt_tokens=0, total_tokens=304)"
      ]
     },
     "execution_count": 32,
     "metadata": {},
     "output_type": "execute_result"
    }
   ],
   "source": [
    "response.usage"
   ]
  },
  {
   "cell_type": "code",
   "execution_count": 33,
   "id": "38db708e-7b76-44ef-ab84-cc300e16bfa6",
   "metadata": {},
   "outputs": [
    {
     "data": {
      "text/plain": [
       "\"Sure, here's the formula for energy:\\n\\n**E = K + U**\\n\\nWhere:\\n\\n* **E** is the energy in joules (J)\\n* **K** is the kinetic energy in joules (J)\\n* **U** is the potential energy in joules (J)\\n\\n**Kinetic energy (K)** is the energy an object possesses when it moves or is in motion. It is calculated as half the product of an object's mass (m) and its velocity (v) squared:\\n\\n**K = 1/2 * m * v^2**\\n\\n**Potential energy (U)** is the energy an object possesses when it is in a position or has a specific configuration. It is calculated as the product of an object's mass and the gravitational constant (g) multiplied by the height or distance of the object from a reference point.\\n\\n**Gravitational potential energy (U)** is given by the formula:\\n\\n**U = mgh**\\n\\nWhere:\\n\\n* **m** is the mass of the object in kilograms (kg)\\n* **g** is the acceleration due to gravity in meters per second squared (m/s^2)\\n* **h** is the height or distance of the object in meters (m)\\n\\nThe formula for energy can be used to calculate the total energy of an object, the energy of a specific part of an object, or the change in energy of an object over time.\""
      ]
     },
     "execution_count": 33,
     "metadata": {},
     "output_type": "execute_result"
    }
   ],
   "source": [
    "response.choices[0].message.content"
   ]
  },
  {
   "cell_type": "code",
   "execution_count": null,
   "id": "2a958f25-3e8d-42a2-9283-5ff12bf62a52",
   "metadata": {},
   "outputs": [],
   "source": []
  }
 ],
 "metadata": {
  "kernelspec": {
   "display_name": "Python 3 (ipykernel)",
   "language": "python",
   "name": "python3"
  },
  "language_info": {
   "codemirror_mode": {
    "name": "ipython",
    "version": 3
   },
   "file_extension": ".py",
   "mimetype": "text/x-python",
   "name": "python",
   "nbconvert_exporter": "python",
   "pygments_lexer": "ipython3",
   "version": "3.10.8"
  }
 },
 "nbformat": 4,
 "nbformat_minor": 5
}
