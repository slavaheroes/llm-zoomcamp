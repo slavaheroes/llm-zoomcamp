{
 "cells": [
  {
   "cell_type": "markdown",
   "id": "3607e48f-bd6e-4433-a1b1-a7cec8693077",
   "metadata": {},
   "source": [
    "### Q1."
   ]
  },
  {
   "cell_type": "code",
   "execution_count": 1,
   "id": "2a7b63f6-1d55-4dcf-afba-7b0bfa847c18",
   "metadata": {},
   "outputs": [
    {
     "name": "stderr",
     "output_type": "stream",
     "text": [
      "/home/slava/anaconda3/envs/llm_zoomcamp/lib/python3.10/site-packages/sentence_transformers/cross_encoder/CrossEncoder.py:11: TqdmWarning: IProgress not found. Please update jupyter and ipywidgets. See https://ipywidgets.readthedocs.io/en/stable/user_install.html\n",
      "  from tqdm.autonotebook import tqdm, trange\n"
     ]
    }
   ],
   "source": [
    "from sentence_transformers import SentenceTransformer\n",
    "model_name = 'multi-qa-distilbert-cos-v1'\n",
    "embedding_model = SentenceTransformer(model_name)"
   ]
  },
  {
   "cell_type": "code",
   "execution_count": 2,
   "id": "2786a7f5-c572-4d52-9ca8-ca6b01b7f407",
   "metadata": {},
   "outputs": [
    {
     "name": "stdout",
     "output_type": "stream",
     "text": [
      "Answer is:  0.078222625\n"
     ]
    }
   ],
   "source": [
    "user_question = \"I just discovered the course. Can I still join it?\"\n",
    "print('Answer is: ', embedding_model.encode(user_question)[0])"
   ]
  },
  {
   "cell_type": "markdown",
   "id": "a8502a71-2f6a-4ecd-80d5-9eb8f6e86992",
   "metadata": {},
   "source": [
    "### Q2."
   ]
  },
  {
   "cell_type": "code",
   "execution_count": 3,
   "id": "39b86709-2f5f-4433-a7f4-88ab8094d7f3",
   "metadata": {},
   "outputs": [],
   "source": [
    "import requests \n",
    "\n",
    "base_url = 'https://github.com/DataTalksClub/llm-zoomcamp/blob/main'\n",
    "relative_url = '03-vector-search/eval/documents-with-ids.json'\n",
    "docs_url = f'{base_url}/{relative_url}?raw=1'\n",
    "docs_response = requests.get(docs_url)\n",
    "documents = docs_response.json()"
   ]
  },
  {
   "cell_type": "code",
   "execution_count": 4,
   "id": "ae983a06-99e2-4c4d-ae27-ca0edfe553a6",
   "metadata": {},
   "outputs": [
    {
     "data": {
      "text/plain": [
       "375"
      ]
     },
     "execution_count": 4,
     "metadata": {},
     "output_type": "execute_result"
    }
   ],
   "source": [
    "documents = [ doc for doc in documents if doc['course']==\"machine-learning-zoomcamp\" ]\n",
    "len(documents)"
   ]
  },
  {
   "cell_type": "code",
   "execution_count": 5,
   "id": "ca7c4236-2940-4e38-a63d-8e010f317c02",
   "metadata": {},
   "outputs": [
    {
     "name": "stdout",
     "output_type": "stream",
     "text": [
      "Answer is:  (375, 768)\n"
     ]
    }
   ],
   "source": [
    "import numpy as np\n",
    "\n",
    "embeddings = []\n",
    "for doc in documents:\n",
    "    qa_text = f'{doc[\"question\"]} {doc[\"text\"]}'\n",
    "    embeddings.append(embedding_model.encode(qa_text))\n",
    "\n",
    "X = np.array(embeddings)\n",
    "print('Answer is: ', X.shape)"
   ]
  },
  {
   "cell_type": "markdown",
   "id": "9792b75a-a341-48d3-9cd1-f4270cf915ea",
   "metadata": {},
   "source": [
    "### Q3."
   ]
  },
  {
   "cell_type": "code",
   "execution_count": 6,
   "id": "0df0d5e4-70e9-43a5-bc0b-25003406cf1e",
   "metadata": {},
   "outputs": [
    {
     "name": "stdout",
     "output_type": "stream",
     "text": [
      "Answer is:  0.6506574\n"
     ]
    }
   ],
   "source": [
    "v = embedding_model.encode(user_question)\n",
    "scores = X.dot(v)\n",
    "\n",
    "print('Answer is: ', scores.max())"
   ]
  },
  {
   "cell_type": "markdown",
   "id": "8f4445b5-6e47-46e7-b4ea-b4faba76dbfe",
   "metadata": {},
   "source": [
    "### Q4."
   ]
  },
  {
   "cell_type": "code",
   "execution_count": 7,
   "id": "106a9682-1def-43ad-b6e9-495b4aa6a3c1",
   "metadata": {},
   "outputs": [],
   "source": [
    "class VectorSearchEngine():\n",
    "    def __init__(self, documents, embeddings):\n",
    "        self.documents = documents\n",
    "        self.embeddings = embeddings\n",
    "\n",
    "    def search(self, v_query, num_results=10):\n",
    "        scores = self.embeddings.dot(v_query)\n",
    "        idx = np.argsort(-scores)[:num_results]\n",
    "        return [self.documents[i] for i in idx]\n",
    "\n",
    "search_engine = VectorSearchEngine(documents=documents, embeddings=X)\n"
   ]
  },
  {
   "cell_type": "code",
   "execution_count": 8,
   "id": "5d7a3a2f-f009-4e7d-8408-a34ae23d2508",
   "metadata": {},
   "outputs": [],
   "source": [
    "import pandas as pd\n",
    "\n",
    "base_url = 'https://github.com/DataTalksClub/llm-zoomcamp/blob/main'\n",
    "relative_url = '03-vector-search/eval/ground-truth-data.csv'\n",
    "ground_truth_url = f'{base_url}/{relative_url}?raw=1'\n",
    "\n",
    "df_ground_truth = pd.read_csv(ground_truth_url)\n",
    "df_ground_truth = df_ground_truth[df_ground_truth.course == 'machine-learning-zoomcamp']\n",
    "ground_truth = df_ground_truth.to_dict(orient='records')"
   ]
  },
  {
   "cell_type": "code",
   "execution_count": 9,
   "id": "043efe82-7db8-43ad-9299-abbd0ff6ae18",
   "metadata": {},
   "outputs": [],
   "source": [
    "def hit_rate(relevance_total):\n",
    "    cnt = 0\n",
    "\n",
    "    for line in relevance_total:\n",
    "        if True in line:\n",
    "            cnt = cnt + 1\n",
    "\n",
    "    return cnt / len(relevance_total)"
   ]
  },
  {
   "cell_type": "code",
   "execution_count": 10,
   "id": "926bd70b-9063-4c79-844d-2b14ec956da2",
   "metadata": {},
   "outputs": [
    {
     "name": "stdout",
     "output_type": "stream",
     "text": [
      "31.34316611289978\n"
     ]
    }
   ],
   "source": [
    "import time\n",
    "start = time.time()\n",
    "\n",
    "relevance_total = []\n",
    "for q in ground_truth:\n",
    "    doc_id = q['document']\n",
    "    question = q['question']\n",
    "    v = embedding_model.encode(question)\n",
    "    results = search_engine.search(v, num_results=5)\n",
    "    relevance = [d['id'] == doc_id for d in results]\n",
    "    relevance_total.append(relevance)\n",
    "\n",
    "end = time.time()\n",
    "print(end-start)"
   ]
  },
  {
   "cell_type": "code",
   "execution_count": 11,
   "id": "8bc22d6f-ea32-4bbe-a913-c20975c97681",
   "metadata": {},
   "outputs": [
    {
     "name": "stdout",
     "output_type": "stream",
     "text": [
      "Answer is:  0.9398907103825137\n"
     ]
    }
   ],
   "source": [
    "print('Answer is: ', hit_rate(relevance_total))"
   ]
  },
  {
   "cell_type": "markdown",
   "id": "f8fa0594-f75a-4cac-8fe4-76dc8343fcc0",
   "metadata": {},
   "source": [
    "### Q5."
   ]
  },
  {
   "cell_type": "code",
   "execution_count": 12,
   "id": "94a345e8-d142-415f-a5da-7a5355b5ec14",
   "metadata": {},
   "outputs": [],
   "source": [
    "from elasticsearch import Elasticsearch\n",
    "\n",
    "es_client = Elasticsearch('http://localhost:9200') \n"
   ]
  },
  {
   "cell_type": "code",
   "execution_count": 13,
   "id": "2a0798d6-a166-4aab-b81b-4d7554bf574b",
   "metadata": {},
   "outputs": [
    {
     "data": {
      "text/plain": [
       "ObjectApiResponse({'acknowledged': True, 'shards_acknowledged': True, 'index': 'course-questions'})"
      ]
     },
     "execution_count": 13,
     "metadata": {},
     "output_type": "execute_result"
    }
   ],
   "source": [
    "# Only question_text_vector\n",
    "\n",
    "index_settings = {\n",
    "    \"settings\": {\n",
    "        \"number_of_shards\": 1,\n",
    "        \"number_of_replicas\": 0\n",
    "    },\n",
    "    \"mappings\": {\n",
    "        \"properties\": {\n",
    "            \"text\": {\"type\": \"text\"},\n",
    "            \"section\": {\"type\": \"text\"},\n",
    "            \"question\": {\"type\": \"text\"},\n",
    "            \"course\": {\"type\": \"keyword\"},\n",
    "            \"id\": {\"type\": \"keyword\"},\n",
    "            \"question_text_vector\": {\n",
    "                \"type\": \"dense_vector\",\n",
    "                \"dims\": 768,\n",
    "                \"index\": True,\n",
    "                \"similarity\": \"cosine\"\n",
    "            },\n",
    "        }\n",
    "    }\n",
    "}\n",
    "\n",
    "index_name = \"course-questions\"\n",
    "\n",
    "es_client.indices.delete(index=index_name, ignore_unavailable=True)\n",
    "es_client.indices.create(index=index_name, body=index_settings)"
   ]
  },
  {
   "cell_type": "code",
   "execution_count": 14,
   "id": "1f48bab9-5d2a-413a-bd23-92efb97326ed",
   "metadata": {},
   "outputs": [],
   "source": [
    "for idx, doc in enumerate(documents):\n",
    "    qv_vector = X[idx]\n",
    "    doc[\"question_text_vector\"] = qv_vector\n",
    "    "
   ]
  },
  {
   "cell_type": "code",
   "execution_count": 15,
   "id": "9e79facd-9c0e-416a-85c0-ec444aa55036",
   "metadata": {},
   "outputs": [],
   "source": [
    "for doc in documents:\n",
    "    es_client.index(index=index_name, document=doc)"
   ]
  },
  {
   "cell_type": "code",
   "execution_count": 16,
   "id": "e2bfab5d-3437-4e02-b184-9efcfb8b6a31",
   "metadata": {},
   "outputs": [],
   "source": [
    "user_question = \"I just discovered the course. Can I still join it?\"\n",
    "v = embedding_model.encode(user_question)\n",
    "\n",
    "knn = {\n",
    "        \"field\": \"question_text_vector\",\n",
    "        \"query_vector\": v,\n",
    "        \"k\": 5,\n",
    "        \"num_candidates\": 10000,\n",
    "    }\n",
    "\n",
    "search_query = {\n",
    "        \"knn\": knn,\n",
    "        \"_source\": [\"text\", \"section\", \"question\", \"course\", \"id\"]\n",
    "    }\n",
    "\n",
    "response = es_client.search(index=index_name, body=search_query)"
   ]
  },
  {
   "cell_type": "code",
   "execution_count": 17,
   "id": "60e7a32d-770e-4d4e-b3bb-ed8d20af1c04",
   "metadata": {},
   "outputs": [
    {
     "name": "stdout",
     "output_type": "stream",
     "text": [
      "Answer is:  ee58a693\n"
     ]
    }
   ],
   "source": [
    "print('Answer is: ', response[\"hits\"][\"hits\"][0][\"_source\"][\"id\"])"
   ]
  },
  {
   "cell_type": "markdown",
   "id": "0606239d-2756-431b-bf6d-2e62d458efc5",
   "metadata": {},
   "source": [
    "### Q6. "
   ]
  },
  {
   "cell_type": "code",
   "execution_count": 18,
   "id": "7f40d70d-633a-40d9-990e-fe09ce096027",
   "metadata": {},
   "outputs": [
    {
     "name": "stdout",
     "output_type": "stream",
     "text": [
      "58.17283844947815\n"
     ]
    }
   ],
   "source": [
    "start = time.time()\n",
    "\n",
    "relevance_total = []\n",
    "for q in ground_truth:\n",
    "    doc_id = q['document']\n",
    "    question = q['question']\n",
    "    v = embedding_model.encode(question)\n",
    "\n",
    "    knn = {\n",
    "            \"field\": \"question_text_vector\",\n",
    "            \"query_vector\": v,\n",
    "            \"k\": 5,\n",
    "            \"num_candidates\": 10000,\n",
    "        }\n",
    "    \n",
    "    search_query = {\n",
    "            \"knn\": knn,\n",
    "            \"_source\": [\"text\", \"section\", \"question\", \"course\", \"id\"]\n",
    "        }\n",
    "    \n",
    "    results = es_client.search(index=index_name, body=search_query)\n",
    "    results = [ hit['_source'] for hit in results['hits']['hits'] ]\n",
    "    \n",
    "    relevance = [d['id'] == doc_id for d in results]\n",
    "    relevance_total.append(relevance)\n",
    "\n",
    "end = time.time()\n",
    "print(end-start)"
   ]
  },
  {
   "cell_type": "code",
   "execution_count": 19,
   "id": "f0c0e256-1d2c-48f1-8f63-e71f11d04bf2",
   "metadata": {},
   "outputs": [
    {
     "name": "stdout",
     "output_type": "stream",
     "text": [
      "Answer is:  0.9398907103825137\n"
     ]
    }
   ],
   "source": [
    "print('Answer is: ', hit_rate(relevance_total))"
   ]
  },
  {
   "cell_type": "markdown",
   "id": "8e8d496d-1165-4190-874c-d7a56d40799c",
   "metadata": {},
   "source": [
    "**Note:** ES has the same performance as Q4.VectorSearchEngine, but it appears to be almost two times slower"
   ]
  },
  {
   "cell_type": "code",
   "execution_count": null,
   "id": "8cc5a4b9-88cc-4c81-b4b2-463fceccda56",
   "metadata": {},
   "outputs": [],
   "source": []
  }
 ],
 "metadata": {
  "kernelspec": {
   "display_name": "Python 3 (ipykernel)",
   "language": "python",
   "name": "python3"
  },
  "language_info": {
   "codemirror_mode": {
    "name": "ipython",
    "version": 3
   },
   "file_extension": ".py",
   "mimetype": "text/x-python",
   "name": "python",
   "nbconvert_exporter": "python",
   "pygments_lexer": "ipython3",
   "version": "3.10.8"
  }
 },
 "nbformat": 4,
 "nbformat_minor": 5
}
